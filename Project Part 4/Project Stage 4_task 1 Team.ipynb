{
 "cells": [
  {
   "cell_type": "code",
   "execution_count": 13,
   "id": "8741c997",
   "metadata": {},
   "outputs": [],
   "source": [
    "import pandas as pd\n",
    "import numpy as np\n",
    "import matplotlib.pyplot as plt\n",
    "import numpy as np\n",
    "from sklearn.linear_model import LinearRegression\n",
    "from sklearn.preprocessing import PolynomialFeatures\n",
    "from sklearn.metrics import mean_squared_error\n",
    "from sklearn.model_selection import cross_val_score\n"
   ]
  },
  {
   "cell_type": "code",
   "execution_count": 14,
   "id": "7e2eb5b3",
   "metadata": {},
   "outputs": [
    {
     "data": {
      "text/html": [
       "<div>\n",
       "<style scoped>\n",
       "    .dataframe tbody tr th:only-of-type {\n",
       "        vertical-align: middle;\n",
       "    }\n",
       "\n",
       "    .dataframe tbody tr th {\n",
       "        vertical-align: top;\n",
       "    }\n",
       "\n",
       "    .dataframe thead th {\n",
       "        text-align: right;\n",
       "    }\n",
       "</style>\n",
       "<table border=\"1\" class=\"dataframe\">\n",
       "  <thead>\n",
       "    <tr style=\"text-align: right;\">\n",
       "      <th></th>\n",
       "      <th>countyFIPS</th>\n",
       "      <th>County Name</th>\n",
       "      <th>State</th>\n",
       "      <th>StateFIPS</th>\n",
       "      <th>2020-01-22</th>\n",
       "      <th>2020-01-23</th>\n",
       "      <th>2020-01-24</th>\n",
       "      <th>2020-01-25</th>\n",
       "      <th>2020-01-26</th>\n",
       "      <th>2020-01-27</th>\n",
       "      <th>...</th>\n",
       "      <th>2023-07-14</th>\n",
       "      <th>2023-07-15</th>\n",
       "      <th>2023-07-16</th>\n",
       "      <th>2023-07-17</th>\n",
       "      <th>2023-07-18</th>\n",
       "      <th>2023-07-19</th>\n",
       "      <th>2023-07-20</th>\n",
       "      <th>2023-07-21</th>\n",
       "      <th>2023-07-22</th>\n",
       "      <th>2023-07-23</th>\n",
       "    </tr>\n",
       "  </thead>\n",
       "  <tbody>\n",
       "    <tr>\n",
       "      <th>0</th>\n",
       "      <td>0</td>\n",
       "      <td>Statewide Unallocated</td>\n",
       "      <td>AL</td>\n",
       "      <td>1</td>\n",
       "      <td>0</td>\n",
       "      <td>0</td>\n",
       "      <td>0</td>\n",
       "      <td>0</td>\n",
       "      <td>0</td>\n",
       "      <td>0</td>\n",
       "      <td>...</td>\n",
       "      <td>0</td>\n",
       "      <td>0</td>\n",
       "      <td>0</td>\n",
       "      <td>0</td>\n",
       "      <td>0</td>\n",
       "      <td>0</td>\n",
       "      <td>0</td>\n",
       "      <td>0</td>\n",
       "      <td>0</td>\n",
       "      <td>0</td>\n",
       "    </tr>\n",
       "    <tr>\n",
       "      <th>1</th>\n",
       "      <td>1001</td>\n",
       "      <td>Autauga County</td>\n",
       "      <td>AL</td>\n",
       "      <td>1</td>\n",
       "      <td>0</td>\n",
       "      <td>0</td>\n",
       "      <td>0</td>\n",
       "      <td>0</td>\n",
       "      <td>0</td>\n",
       "      <td>0</td>\n",
       "      <td>...</td>\n",
       "      <td>19913</td>\n",
       "      <td>19913</td>\n",
       "      <td>19913</td>\n",
       "      <td>19913</td>\n",
       "      <td>19913</td>\n",
       "      <td>19913</td>\n",
       "      <td>19913</td>\n",
       "      <td>19913</td>\n",
       "      <td>19913</td>\n",
       "      <td>19913</td>\n",
       "    </tr>\n",
       "    <tr>\n",
       "      <th>2</th>\n",
       "      <td>1003</td>\n",
       "      <td>Baldwin County</td>\n",
       "      <td>AL</td>\n",
       "      <td>1</td>\n",
       "      <td>0</td>\n",
       "      <td>0</td>\n",
       "      <td>0</td>\n",
       "      <td>0</td>\n",
       "      <td>0</td>\n",
       "      <td>0</td>\n",
       "      <td>...</td>\n",
       "      <td>70521</td>\n",
       "      <td>70521</td>\n",
       "      <td>70521</td>\n",
       "      <td>70521</td>\n",
       "      <td>70521</td>\n",
       "      <td>70521</td>\n",
       "      <td>70521</td>\n",
       "      <td>70521</td>\n",
       "      <td>70521</td>\n",
       "      <td>70521</td>\n",
       "    </tr>\n",
       "    <tr>\n",
       "      <th>3</th>\n",
       "      <td>1005</td>\n",
       "      <td>Barbour County</td>\n",
       "      <td>AL</td>\n",
       "      <td>1</td>\n",
       "      <td>0</td>\n",
       "      <td>0</td>\n",
       "      <td>0</td>\n",
       "      <td>0</td>\n",
       "      <td>0</td>\n",
       "      <td>0</td>\n",
       "      <td>...</td>\n",
       "      <td>7582</td>\n",
       "      <td>7582</td>\n",
       "      <td>7582</td>\n",
       "      <td>7582</td>\n",
       "      <td>7582</td>\n",
       "      <td>7582</td>\n",
       "      <td>7582</td>\n",
       "      <td>7582</td>\n",
       "      <td>7582</td>\n",
       "      <td>7582</td>\n",
       "    </tr>\n",
       "    <tr>\n",
       "      <th>4</th>\n",
       "      <td>1007</td>\n",
       "      <td>Bibb County</td>\n",
       "      <td>AL</td>\n",
       "      <td>1</td>\n",
       "      <td>0</td>\n",
       "      <td>0</td>\n",
       "      <td>0</td>\n",
       "      <td>0</td>\n",
       "      <td>0</td>\n",
       "      <td>0</td>\n",
       "      <td>...</td>\n",
       "      <td>8149</td>\n",
       "      <td>8149</td>\n",
       "      <td>8149</td>\n",
       "      <td>8149</td>\n",
       "      <td>8149</td>\n",
       "      <td>8149</td>\n",
       "      <td>8149</td>\n",
       "      <td>8149</td>\n",
       "      <td>8149</td>\n",
       "      <td>8149</td>\n",
       "    </tr>\n",
       "  </tbody>\n",
       "</table>\n",
       "<p>5 rows × 1269 columns</p>\n",
       "</div>"
      ],
      "text/plain": [
       "   countyFIPS            County Name State  StateFIPS  2020-01-22  2020-01-23  \\\n",
       "0           0  Statewide Unallocated    AL          1           0           0   \n",
       "1        1001        Autauga County     AL          1           0           0   \n",
       "2        1003        Baldwin County     AL          1           0           0   \n",
       "3        1005        Barbour County     AL          1           0           0   \n",
       "4        1007           Bibb County     AL          1           0           0   \n",
       "\n",
       "   2020-01-24  2020-01-25  2020-01-26  2020-01-27  ...  2023-07-14  \\\n",
       "0           0           0           0           0  ...           0   \n",
       "1           0           0           0           0  ...       19913   \n",
       "2           0           0           0           0  ...       70521   \n",
       "3           0           0           0           0  ...        7582   \n",
       "4           0           0           0           0  ...        8149   \n",
       "\n",
       "   2023-07-15  2023-07-16  2023-07-17  2023-07-18  2023-07-19  2023-07-20  \\\n",
       "0           0           0           0           0           0           0   \n",
       "1       19913       19913       19913       19913       19913       19913   \n",
       "2       70521       70521       70521       70521       70521       70521   \n",
       "3        7582        7582        7582        7582        7582        7582   \n",
       "4        8149        8149        8149        8149        8149        8149   \n",
       "\n",
       "   2023-07-21  2023-07-22  2023-07-23  \n",
       "0           0           0           0  \n",
       "1       19913       19913       19913  \n",
       "2       70521       70521       70521  \n",
       "3        7582        7582        7582  \n",
       "4        8149        8149        8149  \n",
       "\n",
       "[5 rows x 1269 columns]"
      ]
     },
     "execution_count": 14,
     "metadata": {},
     "output_type": "execute_result"
    }
   ],
   "source": [
    "covid_cases_data=pd.read_csv(\"covid_confirmed_usafacts.csv\")\n",
    "covid_cases_df=pd.DataFrame(covid_cases_data)\n",
    "covid_cases_df.head()"
   ]
  },
  {
   "cell_type": "code",
   "execution_count": 15,
   "id": "1527cfd8",
   "metadata": {},
   "outputs": [
    {
     "data": {
      "text/html": [
       "<div>\n",
       "<style scoped>\n",
       "    .dataframe tbody tr th:only-of-type {\n",
       "        vertical-align: middle;\n",
       "    }\n",
       "\n",
       "    .dataframe tbody tr th {\n",
       "        vertical-align: top;\n",
       "    }\n",
       "\n",
       "    .dataframe thead th {\n",
       "        text-align: right;\n",
       "    }\n",
       "</style>\n",
       "<table border=\"1\" class=\"dataframe\">\n",
       "  <thead>\n",
       "    <tr style=\"text-align: right;\">\n",
       "      <th></th>\n",
       "      <th>countyFIPS</th>\n",
       "      <th>County Name</th>\n",
       "      <th>State</th>\n",
       "      <th>StateFIPS</th>\n",
       "      <th>2020-01-22</th>\n",
       "      <th>2020-01-23</th>\n",
       "      <th>2020-01-24</th>\n",
       "      <th>2020-01-25</th>\n",
       "      <th>2020-01-26</th>\n",
       "      <th>2020-01-27</th>\n",
       "      <th>...</th>\n",
       "      <th>2023-07-14</th>\n",
       "      <th>2023-07-15</th>\n",
       "      <th>2023-07-16</th>\n",
       "      <th>2023-07-17</th>\n",
       "      <th>2023-07-18</th>\n",
       "      <th>2023-07-19</th>\n",
       "      <th>2023-07-20</th>\n",
       "      <th>2023-07-21</th>\n",
       "      <th>2023-07-22</th>\n",
       "      <th>2023-07-23</th>\n",
       "    </tr>\n",
       "  </thead>\n",
       "  <tbody>\n",
       "    <tr>\n",
       "      <th>0</th>\n",
       "      <td>0</td>\n",
       "      <td>Statewide Unallocated</td>\n",
       "      <td>AL</td>\n",
       "      <td>1</td>\n",
       "      <td>0</td>\n",
       "      <td>0</td>\n",
       "      <td>0</td>\n",
       "      <td>0</td>\n",
       "      <td>0</td>\n",
       "      <td>0</td>\n",
       "      <td>...</td>\n",
       "      <td>0</td>\n",
       "      <td>0</td>\n",
       "      <td>0</td>\n",
       "      <td>0</td>\n",
       "      <td>0</td>\n",
       "      <td>0</td>\n",
       "      <td>0</td>\n",
       "      <td>0</td>\n",
       "      <td>0</td>\n",
       "      <td>0</td>\n",
       "    </tr>\n",
       "    <tr>\n",
       "      <th>1</th>\n",
       "      <td>1001</td>\n",
       "      <td>Autauga County</td>\n",
       "      <td>AL</td>\n",
       "      <td>1</td>\n",
       "      <td>0</td>\n",
       "      <td>0</td>\n",
       "      <td>0</td>\n",
       "      <td>0</td>\n",
       "      <td>0</td>\n",
       "      <td>0</td>\n",
       "      <td>...</td>\n",
       "      <td>235</td>\n",
       "      <td>235</td>\n",
       "      <td>235</td>\n",
       "      <td>235</td>\n",
       "      <td>235</td>\n",
       "      <td>235</td>\n",
       "      <td>235</td>\n",
       "      <td>235</td>\n",
       "      <td>235</td>\n",
       "      <td>235</td>\n",
       "    </tr>\n",
       "    <tr>\n",
       "      <th>2</th>\n",
       "      <td>1003</td>\n",
       "      <td>Baldwin County</td>\n",
       "      <td>AL</td>\n",
       "      <td>1</td>\n",
       "      <td>0</td>\n",
       "      <td>0</td>\n",
       "      <td>0</td>\n",
       "      <td>0</td>\n",
       "      <td>0</td>\n",
       "      <td>0</td>\n",
       "      <td>...</td>\n",
       "      <td>731</td>\n",
       "      <td>731</td>\n",
       "      <td>731</td>\n",
       "      <td>731</td>\n",
       "      <td>731</td>\n",
       "      <td>731</td>\n",
       "      <td>731</td>\n",
       "      <td>731</td>\n",
       "      <td>731</td>\n",
       "      <td>731</td>\n",
       "    </tr>\n",
       "    <tr>\n",
       "      <th>3</th>\n",
       "      <td>1005</td>\n",
       "      <td>Barbour County</td>\n",
       "      <td>AL</td>\n",
       "      <td>1</td>\n",
       "      <td>0</td>\n",
       "      <td>0</td>\n",
       "      <td>0</td>\n",
       "      <td>0</td>\n",
       "      <td>0</td>\n",
       "      <td>0</td>\n",
       "      <td>...</td>\n",
       "      <td>104</td>\n",
       "      <td>104</td>\n",
       "      <td>104</td>\n",
       "      <td>104</td>\n",
       "      <td>104</td>\n",
       "      <td>104</td>\n",
       "      <td>104</td>\n",
       "      <td>104</td>\n",
       "      <td>104</td>\n",
       "      <td>104</td>\n",
       "    </tr>\n",
       "    <tr>\n",
       "      <th>4</th>\n",
       "      <td>1007</td>\n",
       "      <td>Bibb County</td>\n",
       "      <td>AL</td>\n",
       "      <td>1</td>\n",
       "      <td>0</td>\n",
       "      <td>0</td>\n",
       "      <td>0</td>\n",
       "      <td>0</td>\n",
       "      <td>0</td>\n",
       "      <td>0</td>\n",
       "      <td>...</td>\n",
       "      <td>111</td>\n",
       "      <td>111</td>\n",
       "      <td>111</td>\n",
       "      <td>111</td>\n",
       "      <td>111</td>\n",
       "      <td>111</td>\n",
       "      <td>111</td>\n",
       "      <td>111</td>\n",
       "      <td>111</td>\n",
       "      <td>111</td>\n",
       "    </tr>\n",
       "  </tbody>\n",
       "</table>\n",
       "<p>5 rows × 1269 columns</p>\n",
       "</div>"
      ],
      "text/plain": [
       "   countyFIPS            County Name State  StateFIPS  2020-01-22  2020-01-23  \\\n",
       "0           0  Statewide Unallocated    AL          1           0           0   \n",
       "1        1001        Autauga County     AL          1           0           0   \n",
       "2        1003        Baldwin County     AL          1           0           0   \n",
       "3        1005        Barbour County     AL          1           0           0   \n",
       "4        1007           Bibb County     AL          1           0           0   \n",
       "\n",
       "   2020-01-24  2020-01-25  2020-01-26  2020-01-27  ...  2023-07-14  \\\n",
       "0           0           0           0           0  ...           0   \n",
       "1           0           0           0           0  ...         235   \n",
       "2           0           0           0           0  ...         731   \n",
       "3           0           0           0           0  ...         104   \n",
       "4           0           0           0           0  ...         111   \n",
       "\n",
       "   2023-07-15  2023-07-16  2023-07-17  2023-07-18  2023-07-19  2023-07-20  \\\n",
       "0           0           0           0           0           0           0   \n",
       "1         235         235         235         235         235         235   \n",
       "2         731         731         731         731         731         731   \n",
       "3         104         104         104         104         104         104   \n",
       "4         111         111         111         111         111         111   \n",
       "\n",
       "   2023-07-21  2023-07-22  2023-07-23  \n",
       "0           0           0           0  \n",
       "1         235         235         235  \n",
       "2         731         731         731  \n",
       "3         104         104         104  \n",
       "4         111         111         111  \n",
       "\n",
       "[5 rows x 1269 columns]"
      ]
     },
     "execution_count": 15,
     "metadata": {},
     "output_type": "execute_result"
    }
   ],
   "source": [
    "covid_deaths_data=pd.read_csv(\"covid_deaths_usafacts.csv\")\n",
    "covid_deaths_df=pd.DataFrame(covid_deaths_data)\n",
    "covid_deaths_df.head()"
   ]
  },
  {
   "cell_type": "code",
   "execution_count": 16,
   "id": "840229d7",
   "metadata": {},
   "outputs": [
    {
     "name": "stdout",
     "output_type": "stream",
     "text": [
      "Linear Regression RMSE for NJ: 1596074.3607497062\n",
      "Polynomial Regression RMSE for NJ (degree=3): 305498.322237138\n"
     ]
    },
    {
     "data": {
      "image/png": "[encoded data removed]",
      "text/plain": [
       "<Figure size 1200x600 with 1 Axes>"
      ]
     },
     "metadata": {},
     "output_type": "display_data"
    }
   ],
   "source": [
    "# Filter data for the specified date range\n",
    "start_date=\"2020-06-01\"\n",
    "end_date=\"2021-01-03\"\n",
    "date_range=pd.date_range(start_date, end_date).strftime('%Y-%m-%d').tolist()\n",
    "covid_cases_data=covid_cases_data[['countyFIPS', 'County Name', 'State']+date_range]\n",
    "# Prepare data for analysis\n",
    "cases_data=covid_cases_data[date_range].sum(axis=0).values\n",
    "days_since_start=np.arange(len(date_range)).reshape(-1, 1)\n",
    "# Fit linear regression model\n",
    "reg_linear=LinearRegression().fit(days_since_start, cases_data.reshape(-1, 1))\n",
    "# Calculate RMSE for linear regression\n",
    "linear_predictions=reg_linear.predict(days_since_start)\n",
    "linear_rmse=np.sqrt(mean_squared_error(cases_data, linear_predictions))\n",
    "# Fit polynomial regression model\n",
    "degree=3  # Change this if you want\n",
    "poly_features=PolynomialFeatures(degree=degree)\n",
    "X_poly=poly_features.fit_transform(days_since_start)\n",
    "reg_poly=LinearRegression().fit(X_poly, cases_data.reshape(-1, 1))\n",
    "# Calculate RMSE for polynomial regression\n",
    "poly_predictions=reg_poly.predict(X_poly)\n",
    "poly_rmse=np.sqrt(mean_squared_error(cases_data, poly_predictions))\n",
    "# Print RMSE values\n",
    "print(f\"Linear Regression RMSE for NJ: {linear_rmse}\")\n",
    "print(f\"Polynomial Regression RMSE for NJ (degree={degree}): {poly_rmse}\")\n",
    "# Bootstrap to calculate confidence interval\n",
    "n_bootstraps=1000\n",
    "bootstrap_predictions=[]\n",
    "for _ in range(n_bootstraps):\n",
    "    indices=np.random.choice(len(cases_data), size=len(cases_data), replace=True)\n",
    "    X_boot=X_poly[indices]\n",
    "    y_boot=cases_data[indices]\n",
    "    reg_boot=LinearRegression().fit(X_boot, y_boot.reshape(-1, 1))\n",
    "    X_plot_poly=poly_features.transform(np.arange(len(date_range)+7).reshape(-1, 1))\n",
    "    bootstrap_predictions.append(reg_boot.predict(X_plot_poly))\n",
    "# Calculate confidence interval\n",
    "confidence_interval=np.percentile(bootstrap_predictions, [2.5, 97.5], axis=0)\n",
    "# Flatten confidence interval arrays\n",
    "confidence_interval_lower=confidence_interval[0].flatten()\n",
    "confidence_interval_upper=confidence_interval[1].flatten()\n",
    "# Plotting\n",
    "plt.figure(figsize=(12, 6))\n",
    "# Plot actual data\n",
    "plt.scatter(days_since_start, cases_data, color='blue', label='Actual Cases')\n",
    "# Plot linear regression trend line\n",
    "plt.plot(days_since_start, reg_linear.predict(days_since_start), color='red', linestyle='--', label='Linear Trend Line')\n",
    "# Plot polynomial regression trend line and confidence interval\n",
    "X_plot_poly=poly_features.transform(np.arange(len(date_range)+7).reshape(-1, 1))\n",
    "plt.plot(np.arange(len(date_range)+7), reg_poly.predict(X_plot_poly), color='green', label=f'Poly Trend Line (degree={degree})')\n",
    "plt.fill_between(np.arange(len(date_range)+7), confidence_interval_lower, confidence_interval_upper, color='green', alpha=0.3)\n",
    "# Predictions for the next week\n",
    "days_future=np.arange(len(date_range), len(date_range)+7).reshape(-1, 1)\n",
    "X_future_poly=poly_features.transform(days_future)\n",
    "cases_pred=reg_poly.predict(X_future_poly)\n",
    "# Plotting predictions\n",
    "plt.scatter(days_future, cases_pred, color='green', marker='x', label='Predicted Cases (Next Week)')\n",
    "plt.xlabel('Number of Days')\n",
    "plt.ylabel('Number of Cases')\n",
    "plt.title('COVID-19 Cases Prediction')\n",
    "plt.legend()\n",
    "plt.grid(True)\n",
    "plt.xticks(np.arange(0, len(date_range) + 7, 7), rotation=45)\n",
    "plt.tight_layout()\n",
    "plt.show()"
   ]
  },
  {
   "cell_type": "code",
   "execution_count": 17,
   "id": "e9fb9270",
   "metadata": {},
   "outputs": [
    {
     "name": "stdout",
     "output_type": "stream",
     "text": [
      "Linear Regression RMSE for NJ: 13545.924691430659\n",
      "Polynomial Regression RMSE for NJ (degree=3): 4762.935748761434\n"
     ]
    },
    {
     "data": {
      "image/png": "[encoded data removed]",
      "text/plain": [
       "<Figure size 1200x600 with 1 Axes>"
      ]
     },
     "metadata": {},
     "output_type": "display_data"
    }
   ],
   "source": [
    "# Filter data for the specified date range\n",
    "start_date=\"2020-06-01\"\n",
    "end_date=\"2021-01-03\"\n",
    "date_range=pd.date_range(start_date, end_date).strftime('%Y-%m-%d').tolist()\n",
    "covid_deaths_data=covid_deaths_data[['countyFIPS', 'County Name', 'State']+date_range]\n",
    "# Prepare data for analysis\n",
    "deaths_data=covid_deaths_data[date_range].sum(axis=0).values\n",
    "days_since_start=np.arange(len(date_range)).reshape(-1, 1)\n",
    "# Fit linear regression model\n",
    "reg_linear=LinearRegression().fit(days_since_start, deaths_data.reshape(-1, 1))\n",
    "# Calculate RMSE for linear regression\n",
    "linear_predictions=reg_linear.predict(days_since_start)\n",
    "linear_rmse=np.sqrt(mean_squared_error(deaths_data, linear_predictions))\n",
    "# Fit polynomial regression model\n",
    "degree=3  # Change this if you want\n",
    "poly_features=PolynomialFeatures(degree=degree)\n",
    "X_poly=poly_features.fit_transform(days_since_start)\n",
    "reg_poly=LinearRegression().fit(X_poly, deaths_data.reshape(-1, 1))\n",
    "# Calculate RMSE for polynomial regression\n",
    "poly_predictions=reg_poly.predict(X_poly)\n",
    "poly_rmse=np.sqrt(mean_squared_error(deaths_data, poly_predictions))\n",
    "# Print RMSE values\n",
    "print(f\"Linear Regression RMSE for NJ: {linear_rmse}\")\n",
    "print(f\"Polynomial Regression RMSE for NJ (degree={degree}): {poly_rmse}\")\n",
    "# Bootstrap to calculate confidence interval\n",
    "n_bootstraps=1000\n",
    "bootstrap_predictions=[]\n",
    "for _ in range(n_bootstraps):\n",
    "    indices=np.random.choice(len(deaths_data), size=len(deaths_data), replace=True)\n",
    "    X_boot=X_poly[indices]\n",
    "    y_boot=deaths_data[indices]\n",
    "    reg_boot=LinearRegression().fit(X_boot, y_boot.reshape(-1, 1))\n",
    "    X_plot_poly=poly_features.transform(np.arange(len(date_range)+7).reshape(-1, 1))\n",
    "    bootstrap_predictions.append(reg_boot.predict(X_plot_poly))\n",
    "# Calculate confidence interval\n",
    "confidence_interval=np.percentile(bootstrap_predictions, [2.5, 97.5], axis=0)\n",
    "# Flatten confidence interval arrays\n",
    "confidence_interval_lower=confidence_interval[0].flatten()\n",
    "confidence_interval_upper=confidence_interval[1].flatten()\n",
    "# Plotting\n",
    "plt.figure(figsize=(12, 6))\n",
    "# Plot actual data\n",
    "plt.scatter(days_since_start, deaths_data, color='blue', label='Actual Deaths')\n",
    "# Plot linear regression trend line\n",
    "plt.plot(days_since_start, reg_linear.predict(days_since_start), color='red', linestyle='--', label='Linear Trend Line')\n",
    "# Plot polynomial regression trend line and confidence interval\n",
    "X_plot_poly=poly_features.transform(np.arange(len(date_range)+7).reshape(-1, 1))\n",
    "plt.plot(np.arange(len(date_range)+7), reg_poly.predict(X_plot_poly), color='green', label=f'Poly Trend Line (degree={degree})')\n",
    "plt.fill_between(np.arange(len(date_range)+7), confidence_interval_lower, confidence_interval_upper, color='green', alpha=0.3)\n",
    "# Predictions for the next week\n",
    "days_future=np.arange(len(date_range), len(date_range)+7).reshape(-1, 1)\n",
    "X_future_poly=poly_features.transform(days_future)\n",
    "deaths_pred=reg_poly.predict(X_future_poly)\n",
    "# Plotting predictions\n",
    "plt.scatter(days_future, deaths_pred, color='green', marker='x', label='Predicted Deaths (Next Week)')\n",
    "plt.xlabel('Number of Days')\n",
    "plt.ylabel('Number of Deaths')\n",
    "plt.title('COVID-19 Deaths Prediction')\n",
    "plt.legend()\n",
    "plt.grid(True)\n",
    "plt.xticks(np.arange(0, len(date_range)+7, 7), rotation=45)\n",
    "plt.tight_layout()\n",
    "plt.show()"
   ]
  },
  {
   "cell_type": "markdown",
   "id": "90f190bb",
   "metadata": {},
   "source": [
    "# Bias vs Variance Trade-Off"
   ]
  },
  {
   "cell_type": "markdown",
   "id": "530eb431",
   "metadata": {},
   "source": [
    "When creating machine learning models, it is important to understand how a high amount of bias and/or a high amount of variance can affect statistical models. A high bias model usually leads to the model being underfitted and does not perform well in tests.\n",
    "\n",
    "On the other hand, a high variance model will usually overfit the data and lead to a complex model. This means that it could capture noise and then leads to poor performance when it comes to new or unseen data. There is a tradeoff becuase decreasing variance leads to increasing bias and the other way around.\n",
    "\n",
    "In our example, above for Covid Deaths, we can see that the polynomial model seems to be following the actual values very closely. This could lead to overfitting if we were to increase the polynomial degree. This overfitting would be due to high variance.\n",
    "\n",
    "It is important to balance bias and variance in order to ensure that a model can perform well beyond the known values."
   ]
  },
  {
   "cell_type": "code",
   "execution_count": 18,
   "id": "9783bb6e",
   "metadata": {},
   "outputs": [],
   "source": [
    "other_cases_data = pd.read_csv('total_cases.csv')\n",
    "other_deaths_data = pd.read_csv('total_deaths.csv')"
   ]
  },
  {
   "cell_type": "code",
   "execution_count": 19,
   "id": "55771661",
   "metadata": {},
   "outputs": [
    {
     "data": {
      "text/html": [
       "<div>\n",
       "<style scoped>\n",
       "    .dataframe tbody tr th:only-of-type {\n",
       "        vertical-align: middle;\n",
       "    }\n",
       "\n",
       "    .dataframe tbody tr th {\n",
       "        vertical-align: top;\n",
       "    }\n",
       "\n",
       "    .dataframe thead th {\n",
       "        text-align: right;\n",
       "    }\n",
       "</style>\n",
       "<table border=\"1\" class=\"dataframe\">\n",
       "  <thead>\n",
       "    <tr style=\"text-align: right;\">\n",
       "      <th></th>\n",
       "      <th>date</th>\n",
       "      <th>World</th>\n",
       "      <th>Afghanistan</th>\n",
       "      <th>Africa</th>\n",
       "      <th>Albania</th>\n",
       "      <th>Algeria</th>\n",
       "      <th>American Samoa</th>\n",
       "      <th>Andorra</th>\n",
       "      <th>Angola</th>\n",
       "      <th>Anguilla</th>\n",
       "      <th>...</th>\n",
       "      <th>Uruguay</th>\n",
       "      <th>Uzbekistan</th>\n",
       "      <th>Vanuatu</th>\n",
       "      <th>Vatican</th>\n",
       "      <th>Venezuela</th>\n",
       "      <th>Vietnam</th>\n",
       "      <th>Wallis and Futuna</th>\n",
       "      <th>Yemen</th>\n",
       "      <th>Zambia</th>\n",
       "      <th>Zimbabwe</th>\n",
       "    </tr>\n",
       "  </thead>\n",
       "  <tbody>\n",
       "    <tr>\n",
       "      <th>0</th>\n",
       "      <td>2020-01-05</td>\n",
       "      <td>2.0</td>\n",
       "      <td>NaN</td>\n",
       "      <td>NaN</td>\n",
       "      <td>NaN</td>\n",
       "      <td>NaN</td>\n",
       "      <td>NaN</td>\n",
       "      <td>NaN</td>\n",
       "      <td>NaN</td>\n",
       "      <td>NaN</td>\n",
       "      <td>...</td>\n",
       "      <td>NaN</td>\n",
       "      <td>NaN</td>\n",
       "      <td>NaN</td>\n",
       "      <td>NaN</td>\n",
       "      <td>NaN</td>\n",
       "      <td>NaN</td>\n",
       "      <td>NaN</td>\n",
       "      <td>NaN</td>\n",
       "      <td>NaN</td>\n",
       "      <td>NaN</td>\n",
       "    </tr>\n",
       "    <tr>\n",
       "      <th>1</th>\n",
       "      <td>2020-01-06</td>\n",
       "      <td>2.0</td>\n",
       "      <td>NaN</td>\n",
       "      <td>NaN</td>\n",
       "      <td>NaN</td>\n",
       "      <td>NaN</td>\n",
       "      <td>NaN</td>\n",
       "      <td>NaN</td>\n",
       "      <td>NaN</td>\n",
       "      <td>NaN</td>\n",
       "      <td>...</td>\n",
       "      <td>NaN</td>\n",
       "      <td>NaN</td>\n",
       "      <td>NaN</td>\n",
       "      <td>NaN</td>\n",
       "      <td>NaN</td>\n",
       "      <td>NaN</td>\n",
       "      <td>NaN</td>\n",
       "      <td>NaN</td>\n",
       "      <td>NaN</td>\n",
       "      <td>NaN</td>\n",
       "    </tr>\n",
       "    <tr>\n",
       "      <th>2</th>\n",
       "      <td>2020-01-07</td>\n",
       "      <td>2.0</td>\n",
       "      <td>NaN</td>\n",
       "      <td>NaN</td>\n",
       "      <td>NaN</td>\n",
       "      <td>NaN</td>\n",
       "      <td>NaN</td>\n",
       "      <td>NaN</td>\n",
       "      <td>NaN</td>\n",
       "      <td>NaN</td>\n",
       "      <td>...</td>\n",
       "      <td>NaN</td>\n",
       "      <td>NaN</td>\n",
       "      <td>NaN</td>\n",
       "      <td>NaN</td>\n",
       "      <td>NaN</td>\n",
       "      <td>NaN</td>\n",
       "      <td>NaN</td>\n",
       "      <td>NaN</td>\n",
       "      <td>NaN</td>\n",
       "      <td>NaN</td>\n",
       "    </tr>\n",
       "    <tr>\n",
       "      <th>3</th>\n",
       "      <td>2020-01-08</td>\n",
       "      <td>2.0</td>\n",
       "      <td>NaN</td>\n",
       "      <td>NaN</td>\n",
       "      <td>NaN</td>\n",
       "      <td>NaN</td>\n",
       "      <td>NaN</td>\n",
       "      <td>NaN</td>\n",
       "      <td>NaN</td>\n",
       "      <td>NaN</td>\n",
       "      <td>...</td>\n",
       "      <td>NaN</td>\n",
       "      <td>NaN</td>\n",
       "      <td>NaN</td>\n",
       "      <td>NaN</td>\n",
       "      <td>NaN</td>\n",
       "      <td>NaN</td>\n",
       "      <td>NaN</td>\n",
       "      <td>NaN</td>\n",
       "      <td>NaN</td>\n",
       "      <td>NaN</td>\n",
       "    </tr>\n",
       "    <tr>\n",
       "      <th>4</th>\n",
       "      <td>2020-01-09</td>\n",
       "      <td>2.0</td>\n",
       "      <td>NaN</td>\n",
       "      <td>NaN</td>\n",
       "      <td>NaN</td>\n",
       "      <td>NaN</td>\n",
       "      <td>NaN</td>\n",
       "      <td>NaN</td>\n",
       "      <td>NaN</td>\n",
       "      <td>NaN</td>\n",
       "      <td>...</td>\n",
       "      <td>NaN</td>\n",
       "      <td>NaN</td>\n",
       "      <td>NaN</td>\n",
       "      <td>NaN</td>\n",
       "      <td>NaN</td>\n",
       "      <td>NaN</td>\n",
       "      <td>NaN</td>\n",
       "      <td>NaN</td>\n",
       "      <td>NaN</td>\n",
       "      <td>NaN</td>\n",
       "    </tr>\n",
       "  </tbody>\n",
       "</table>\n",
       "<p>5 rows × 247 columns</p>\n",
       "</div>"
      ],
      "text/plain": [
       "         date  World  Afghanistan  Africa  Albania  Algeria  American Samoa  \\\n",
       "0  2020-01-05    2.0          NaN     NaN      NaN      NaN             NaN   \n",
       "1  2020-01-06    2.0          NaN     NaN      NaN      NaN             NaN   \n",
       "2  2020-01-07    2.0          NaN     NaN      NaN      NaN             NaN   \n",
       "3  2020-01-08    2.0          NaN     NaN      NaN      NaN             NaN   \n",
       "4  2020-01-09    2.0          NaN     NaN      NaN      NaN             NaN   \n",
       "\n",
       "   Andorra  Angola  Anguilla  ...  Uruguay  Uzbekistan  Vanuatu  Vatican  \\\n",
       "0      NaN     NaN       NaN  ...      NaN         NaN      NaN      NaN   \n",
       "1      NaN     NaN       NaN  ...      NaN         NaN      NaN      NaN   \n",
       "2      NaN     NaN       NaN  ...      NaN         NaN      NaN      NaN   \n",
       "3      NaN     NaN       NaN  ...      NaN         NaN      NaN      NaN   \n",
       "4      NaN     NaN       NaN  ...      NaN         NaN      NaN      NaN   \n",
       "\n",
       "   Venezuela  Vietnam  Wallis and Futuna  Yemen  Zambia  Zimbabwe  \n",
       "0        NaN      NaN                NaN    NaN     NaN       NaN  \n",
       "1        NaN      NaN                NaN    NaN     NaN       NaN  \n",
       "2        NaN      NaN                NaN    NaN     NaN       NaN  \n",
       "3        NaN      NaN                NaN    NaN     NaN       NaN  \n",
       "4        NaN      NaN                NaN    NaN     NaN       NaN  \n",
       "\n",
       "[5 rows x 247 columns]"
      ]
     },
     "execution_count": 19,
     "metadata": {},
     "output_type": "execute_result"
    }
   ],
   "source": [
    "other_cases_data.head()"
   ]
  },
  {
   "cell_type": "code",
   "execution_count": 20,
   "id": "0462581a",
   "metadata": {},
   "outputs": [],
   "source": [
    "\n",
    "uk_cases_data = other_cases_data['United Kingdom']\n",
    "uk_deaths_data = other_deaths_data['United Kingdom']\n"
   ]
  },
  {
   "cell_type": "code",
   "execution_count": 21,
   "id": "6cf976b6",
   "metadata": {
    "scrolled": false
   },
   "outputs": [
    {
     "data": {
      "image/png": "[encoded data removed]",
      "text/plain": [
       "<Figure size 1200x600 with 1 Axes>"
      ]
     },
     "metadata": {},
     "output_type": "display_data"
    }
   ],
   "source": [
    "\n",
    "uk_cases_data = other_cases_data['United Kingdom']\n",
    "uk_deaths_data = other_deaths_data['United Kingdom']\n",
    "\n",
    "# Convert index to datetime if necessary and filter by date range\n",
    "other_cases_data['Date'] = pd.to_datetime(other_cases_data['date'])\n",
    "uk_cases_data = uk_cases_data[(other_cases_data['Date'] >= '2020-06-01') & (other_cases_data['Date'] <= '2021-01-03')]\n",
    "uk_deaths_data = uk_deaths_data[(other_cases_data['Date'] >= '2020-06-01') & (other_cases_data['Date'] <= '2021-01-03')]\n",
    "\n",
    "# Assuming days_since_start is the array of days since 2020-06-01\n",
    "days_since_start = np.arange(len(uk_cases_data))\n",
    "\n",
    "# Fit the regression models (linear or polynomial as needed)\n",
    "# Example with polynomial regression for cases\n",
    "degree = 3\n",
    "poly_features_uk = PolynomialFeatures(degree=degree)\n",
    "X_poly_uk = poly_features_uk.fit_transform(days_since_start.reshape(-1, 1))\n",
    "reg_poly_uk = LinearRegression().fit(X_poly_uk, uk_cases_data.values.reshape(-1, 1))\n",
    "\n",
    "# Plotting the data for visual comparison\n",
    "plt.figure(figsize=(12, 6))\n",
    "plt.scatter(days_since_start, uk_cases_data, color='purple', label='UK Actual Cases')\n",
    "X_plot_poly_uk = poly_features_uk.transform(np.arange(len(uk_cases_data)).reshape(-1, 1))\n",
    "plt.plot(np.arange(len(uk_cases_data)), reg_poly_uk.predict(X_plot_poly_uk), color='orange', label=f'UK Poly Trend Line (degree={degree})')\n",
    "plt.xlabel('Number of Days since June 1, 2020')\n",
    "plt.ylabel('Number of Cases')\n",
    "plt.title('COVID-19 Cases in the UK')\n",
    "plt.legend()\n",
    "plt.grid(True)\n",
    "plt.show()"
   ]
  },
  {
   "cell_type": "code",
   "execution_count": 22,
   "id": "7f24f1a6",
   "metadata": {
    "scrolled": false
   },
   "outputs": [
    {
     "data": {
      "image/png": "[encoded data removed]",
      "text/plain": [
       "<Figure size 1200x600 with 1 Axes>"
      ]
     },
     "metadata": {},
     "output_type": "display_data"
    }
   ],
   "source": [
    "# Convert index to datetime if necessary and filter by date range\n",
    "other_deaths_data['Date'] = pd.to_datetime(other_deaths_data['date'])  # Ensure the 'date' column is correct\n",
    "uk_deaths_data = uk_deaths_data[(other_deaths_data['Date'] >= '2020-06-01') & (other_deaths_data['Date'] <= '2021-01-03')]\n",
    "\n",
    "# Prepare the days_since_start based on the filtered data\n",
    "days_since_start_deaths = np.arange(len(uk_deaths_data))\n",
    "\n",
    "# Fit the regression models (linear or polynomial as needed)\n",
    "# Using polynomial regression for deaths as an example\n",
    "degree_deaths = 3\n",
    "poly_features_uk_deaths = PolynomialFeatures(degree=degree_deaths)\n",
    "X_poly_uk_deaths = poly_features_uk_deaths.fit_transform(days_since_start_deaths.reshape(-1, 1))\n",
    "reg_poly_uk_deaths = LinearRegression().fit(X_poly_uk_deaths, uk_deaths_data.values.reshape(-1, 1))\n",
    "\n",
    "# Plotting the deaths data for visual comparison\n",
    "plt.figure(figsize=(12, 6))\n",
    "plt.scatter(days_since_start_deaths, uk_deaths_data, color='red', label='UK Actual Deaths')\n",
    "X_plot_poly_uk_deaths = poly_features_uk_deaths.transform(np.arange(len(uk_deaths_data)).reshape(-1, 1))\n",
    "plt.plot(np.arange(len(uk_deaths_data)), reg_poly_uk_deaths.predict(X_plot_poly_uk_deaths), color='black', label=f'UK Poly Trend Line (degree={degree_deaths})')\n",
    "plt.xlabel('Number of Days since June 1, 2020')\n",
    "plt.ylabel('Number of Deaths')\n",
    "plt.title('COVID-19 Deaths in the UK')\n",
    "plt.legend()\n",
    "plt.grid(True)\n",
    "plt.show()"
   ]
  },
  {
   "cell_type": "markdown",
   "id": "90927d23",
   "metadata": {},
   "source": [
    "# Comparing Trends between US and UK"
   ]
  },
  {
   "cell_type": "code",
   "execution_count": 23,
   "id": "0ad1af75",
   "metadata": {},
   "outputs": [
    {
     "data": {
      "application/vnd.plotly.v1+json": {
       "config": {
        "plotlyServerURL": "https://plot.ly"
       },
       "data": [
        {
         "mode": "lines",
         "name": "US",
         "type": "scatter",
         "x": [
          0,
          1,
          2,
          3,
          4,
          5,
          6,
          7,
          8,
          9,
          10,
          11,
          12,
          13,
          14,
          15,
          16,
          17,
          18,
          19,
          20,
          21,
          22,
          23,
          24,
          25,
          26,
          27,
          28,
          29,
          30,
          31,
          32,
          33,
          34,
          35,
          36,
          37,
          38,
          39,
          40,
          41,
          42,
          43,
          44,
          45,
          46,
          47,
          48,
          49,
          50,
          51,
          52,
          53,
          54,
          55,
          56,
          57,
          58,
          59,
          60,
          61,
          62,
          63,
          64,
          65,
          66,
          67,
          68,
          69,
          70,
          71,
          72,
          73,
          74,
          75,
          76,
          77,
          78,
          79,
          80,
          81,
          82,
          83,
          84,
          85,
          86,
          87,
          88,
          89,
          90,
          91,
          92,
          93,
          94,
          95,
          96,
          97,
          98,
          99,
          100,
          101,
          102,
          103,
          104,
          105,
          106,
          107,
          108,
          109,
          110,
          111,
          112,
          113,
          114,
          115,
          116,
          117,
          118,
          119,
          120,
          121,
          122,
          123,
          124,
          125,
          126,
          127,
          128,
          129,
          130,
          131,
          132,
          133,
          134,
          135,
          136,
          137,
          138,
          139,
          140,
          141,
          142,
          143,
          144,
          145,
          146,
          147,
          148,
          149,
          150,
          151,
          152,
          153,
          154,
          155,
          156,
          157,
          158,
          159,
          160,
          161,
          162,
          163,
          164,
          165,
          166,
          167,
          168,
          169,
          170,
          171,
          172,
          173,
          174,
          175,
          176,
          177,
          178,
          179,
          180,
          181,
          182,
          183,
          184,
          185,
          186,
          187,
          188,
          189,
          190,
          191,
          192,
          193,
          194,
          195,
          196,
          197,
          198,
          199,
          200,
          201,
          202,
          203,
          204,
          205,
          206,
          207,
          208,
          209,
          210,
          211,
          212,
          213,
          214,
          215,
          216
         ],
         "y": [
          1825083,
          1846878,
          1868250,
          1890173,
          1919057,
          1942844,
          1961192,
          1977756,
          1997208,
          2019231,
          2042796,
          2068797,
          2095714,
          2116683,
          2135801,
          2163908,
          2191156,
          2221307,
          2255640,
          2290523,
          2319028,
          2346696,
          2384860,
          2425731,
          2469820,
          2519457,
          2566991,
          2608875,
          2644956,
          2694312,
          2748327,
          2806125,
          2866754,
          2918327,
          2961395,
          3005789,
          3063072,
          3126511,
          3192412,
          3262685,
          3328112,
          3387712,
          3442018,
          3511610,
          3577705,
          3650129,
          3729460,
          3796034,
          3856816,
          3911651,
          3976266,
          4042729,
          4110042,
          4183500,
          4247760,
          4303499,
          4354188,
          4414944,
          4478146,
          4544039,
          4610541,
          4670339,
          4719867,
          4760076,
          4814830,
          4870082,
          4924448,
          4984543,
          5037296,
          5082446,
          5118655,
          5168334,
          5219825,
          5269001,
          5321261,
          5369778,
          5406755,
          5441156,
          5482489,
          5526317,
          5568617,
          5614820,
          5657641,
          5689908,
          5723072,
          5762129,
          5807342,
          5851905,
          5896714,
          5938481,
          5972021,
          6003057,
          6044910,
          6084681,
          6127125,
          6175066,
          6216526,
          6247589,
          6273262,
          6297939,
          6333208,
          6370043,
          6414617,
          6452866,
          6485334,
          6518526,
          6556977,
          6599417,
          6643428,
          6688788,
          6731215,
          6763219,
          6802812,
          6854475,
          6894327,
          6938431,
          6993575,
          7037982,
          7069807,
          7105453,
          7144914,
          7191626,
          7238678,
          7286404,
          7336811,
          7371498,
          7408589,
          7452887,
          7504648,
          7561231,
          7618205,
          7668387,
          7712473,
          7758835,
          7811303,
          7869353,
          7936901,
          8004288,
          8061822,
          8110024,
          8166698,
          8226360,
          8289604,
          8365540,
          8445874,
          8515412,
          8578637,
          8650019,
          8721867,
          8805390,
          8894252,
          8990199,
          9072426,
          9214833,
          9306955,
          9406618,
          9518980,
          9651604,
          9780880,
          9893150,
          10000648,
          10133707,
          10280372,
          10437353,
          10589003,
          10766188,
          10937599,
          11071050,
          11224810,
          11382704,
          11551643,
          11748324,
          11933543,
          12142459,
          12280817,
          12449233,
          12629420,
          12815908,
          12942892,
          13129356,
          13301106,
          13424933,
          13580887,
          13787187,
          14010485,
          14233644,
          14468110,
          14681324,
          14847602,
          15027940,
          15264272,
          15499789,
          15728458,
          15966542,
          16185597,
          16363412,
          16552423,
          16764684,
          16998180,
          17231388,
          17469570,
          17685162,
          17848765,
          18010051,
          18204174,
          18416088,
          18609135,
          18704673,
          18833238,
          18959735,
          19201773,
          19460991,
          19743342,
          19980329,
          20145536,
          20378433,
          20605299
         ]
        },
        {
         "mode": "lines",
         "name": "UK",
         "type": "scatter",
         "x": [
          0,
          1,
          2,
          3,
          4,
          5,
          6,
          7,
          8,
          9,
          10,
          11,
          12,
          13,
          14,
          15,
          16,
          17,
          18,
          19,
          20,
          21,
          22,
          23,
          24,
          25,
          26,
          27,
          28,
          29,
          30,
          31,
          32,
          33,
          34,
          35,
          36,
          37,
          38,
          39,
          40,
          41,
          42,
          43,
          44,
          45,
          46,
          47,
          48,
          49,
          50,
          51,
          52,
          53,
          54,
          55,
          56,
          57,
          58,
          59,
          60,
          61,
          62,
          63,
          64,
          65,
          66,
          67,
          68,
          69,
          70,
          71,
          72,
          73,
          74,
          75,
          76,
          77,
          78,
          79,
          80,
          81,
          82,
          83,
          84,
          85,
          86,
          87,
          88,
          89,
          90,
          91,
          92,
          93,
          94,
          95,
          96,
          97,
          98,
          99,
          100,
          101,
          102,
          103,
          104,
          105,
          106,
          107,
          108,
          109,
          110,
          111,
          112,
          113,
          114,
          115,
          116,
          117,
          118,
          119,
          120,
          121,
          122,
          123,
          124,
          125,
          126,
          127,
          128,
          129,
          130,
          131,
          132,
          133,
          134,
          135,
          136,
          137,
          138,
          139,
          140,
          141,
          142,
          143,
          144,
          145,
          146,
          147,
          148,
          149,
          150,
          151,
          152,
          153,
          154,
          155,
          156,
          157,
          158,
          159,
          160,
          161,
          162,
          163,
          164,
          165,
          166,
          167,
          168,
          169,
          170,
          171,
          172,
          173,
          174,
          175,
          176,
          177,
          178,
          179,
          180,
          181,
          182,
          183,
          184,
          185,
          186,
          187,
          188,
          189,
          190,
          191,
          192,
          193,
          194,
          195,
          196,
          197,
          198,
          199,
          200,
          201,
          202,
          203,
          204,
          205,
          206,
          207,
          208,
          209,
          210,
          211,
          212,
          213,
          214,
          215,
          216
         ],
         "y": [
          254220,
          254220,
          254220,
          254220,
          254220,
          254220,
          263104,
          263104,
          263104,
          263104,
          263104,
          263104,
          263104,
          270156,
          270156,
          270156,
          270156,
          270156,
          270156,
          270156,
          277048,
          277048,
          277048,
          277048,
          277048,
          277048,
          277048,
          282318,
          282318,
          282318,
          282318,
          282318,
          282318,
          282318,
          286593,
          286593,
          286593,
          286593,
          286593,
          286593,
          286593,
          290876,
          290876,
          290876,
          290876,
          290876,
          290876,
          290876,
          295216,
          295216,
          295216,
          295216,
          295216,
          295216,
          295216,
          300185,
          300185,
          300185,
          300185,
          300185,
          300185,
          300185,
          305709,
          305709,
          305709,
          305709,
          305709,
          305709,
          305709,
          312127,
          312127,
          312127,
          312127,
          312127,
          312127,
          312127,
          319924,
          319924,
          319924,
          319924,
          319924,
          319924,
          319924,
          327652,
          327652,
          327652,
          327652,
          327652,
          327652,
          327652,
          336506,
          336506,
          336506,
          336506,
          336506,
          336506,
          336506,
          352029,
          352029,
          352029,
          352029,
          352029,
          352029,
          352029,
          374663,
          374663,
          374663,
          374663,
          374663,
          374663,
          374663,
          400513,
          400513,
          400513,
          400513,
          400513,
          400513,
          400513,
          444906,
          444906,
          444906,
          444906,
          444906,
          444906,
          444906,
          519016,
          519016,
          519016,
          519016,
          519016,
          519016,
          519016,
          629530,
          629530,
          629530,
          629530,
          629530,
          629530,
          629530,
          749608,
          749608,
          749608,
          749608,
          749608,
          749608,
          749608,
          901169,
          901169,
          901169,
          901169,
          901169,
          901169,
          901169,
          1055061,
          1055061,
          1055061,
          1055061,
          1055061,
          1055061,
          1055061,
          1217321,
          1217321,
          1217321,
          1217321,
          1217321,
          1217321,
          1217321,
          1392601,
          1392601,
          1392601,
          1392601,
          1392601,
          1392601,
          1392601,
          1533714,
          1533714,
          1533714,
          1533714,
          1533714,
          1533714,
          1533714,
          1639974,
          1639974,
          1639974,
          1639974,
          1639974,
          1639974,
          1639974,
          1745164,
          1745164,
          1745164,
          1745164,
          1745164,
          1745164,
          1745164,
          1883652,
          1883652,
          1883652,
          1883652,
          1883652,
          1883652,
          1883652,
          2101364,
          2101364,
          2101364,
          2101364,
          2101364,
          2101364,
          2101364,
          2344433,
          2344433,
          2344433,
          2344433,
          2344433,
          2344433,
          2344433,
          2722151
         ]
        }
       ],
       "layout": {
        "template": {
         "data": {
          "bar": [
           {
            "error_x": {
             "color": "#2a3f5f"
            },
            "error_y": {
             "color": "#2a3f5f"
            },
            "marker": {
             "line": {
              "color": "#E5ECF6",
              "width": 0.5
             },
             "pattern": {
              "fillmode": "overlay",
              "size": 10,
              "solidity": 0.2
             }
            },
            "type": "bar"
           }
          ],
          "barpolar": [
           {
            "marker": {
             "line": {
              "color": "#E5ECF6",
              "width": 0.5
             },
             "pattern": {
              "fillmode": "overlay",
              "size": 10,
              "solidity": 0.2
             }
            },
            "type": "barpolar"
           }
          ],
          "carpet": [
           {
            "aaxis": {
             "endlinecolor": "#2a3f5f",
             "gridcolor": "white",
             "linecolor": "white",
             "minorgridcolor": "white",
             "startlinecolor": "#2a3f5f"
            },
            "baxis": {
             "endlinecolor": "#2a3f5f",
             "gridcolor": "white",
             "linecolor": "white",
             "minorgridcolor": "white",
             "startlinecolor": "#2a3f5f"
            },
            "type": "carpet"
           }
          ],
          "choropleth": [
           {
            "colorbar": {
             "outlinewidth": 0,
             "ticks": ""
            },
            "type": "choropleth"
           }
          ],
          "contour": [
           {
            "colorbar": {
             "outlinewidth": 0,
             "ticks": ""
            },
            "colorscale": [
             [
              0,
              "#0d0887"
             ],
             [
              0.1111111111111111,
              "#46039f"
             ],
             [
              0.2222222222222222,
              "#7201a8"
             ],
             [
              0.3333333333333333,
              "#9c179e"
             ],
             [
              0.4444444444444444,
              "#bd3786"
             ],
             [
              0.5555555555555556,
              "#d8576b"
             ],
             [
              0.6666666666666666,
              "#ed7953"
             ],
             [
              0.7777777777777778,
              "#fb9f3a"
             ],
             [
              0.8888888888888888,
              "#fdca26"
             ],
             [
              1,
              "#f0f921"
             ]
            ],
            "type": "contour"
           }
          ],
          "contourcarpet": [
           {
            "colorbar": {
             "outlinewidth": 0,
             "ticks": ""
            },
            "type": "contourcarpet"
           }
          ],
          "heatmap": [
           {
            "colorbar": {
             "outlinewidth": 0,
             "ticks": ""
            },
            "colorscale": [
             [
              0,
              "#0d0887"
             ],
             [
              0.1111111111111111,
              "#46039f"
             ],
             [
              0.2222222222222222,
              "#7201a8"
             ],
             [
              0.3333333333333333,
              "#9c179e"
             ],
             [
              0.4444444444444444,
              "#bd3786"
             ],
             [
              0.5555555555555556,
              "#d8576b"
             ],
             [
              0.6666666666666666,
              "#ed7953"
             ],
             [
              0.7777777777777778,
              "#fb9f3a"
             ],
             [
              0.8888888888888888,
              "#fdca26"
             ],
             [
              1,
              "#f0f921"
             ]
            ],
            "type": "heatmap"
           }
          ],
          "heatmapgl": [
           {
            "colorbar": {
             "outlinewidth": 0,
             "ticks": ""
            },
            "colorscale": [
             [
              0,
              "#0d0887"
             ],
             [
              0.1111111111111111,
              "#46039f"
             ],
             [
              0.2222222222222222,
              "#7201a8"
             ],
             [
              0.3333333333333333,
              "#9c179e"
             ],
             [
              0.4444444444444444,
              "#bd3786"
             ],
             [
              0.5555555555555556,
              "#d8576b"
             ],
             [
              0.6666666666666666,
              "#ed7953"
             ],
             [
              0.7777777777777778,
              "#fb9f3a"
             ],
             [
              0.8888888888888888,
              "#fdca26"
             ],
             [
              1,
              "#f0f921"
             ]
            ],
            "type": "heatmapgl"
           }
          ],
          "histogram": [
           {
            "marker": {
             "pattern": {
              "fillmode": "overlay",
              "size": 10,
              "solidity": 0.2
             }
            },
            "type": "histogram"
           }
          ],
          "histogram2d": [
           {
            "colorbar": {
             "outlinewidth": 0,
             "ticks": ""
            },
            "colorscale": [
             [
              0,
              "#0d0887"
             ],
             [
              0.1111111111111111,
              "#46039f"
             ],
             [
              0.2222222222222222,
              "#7201a8"
             ],
             [
              0.3333333333333333,
              "#9c179e"
             ],
             [
              0.4444444444444444,
              "#bd3786"
             ],
             [
              0.5555555555555556,
              "#d8576b"
             ],
             [
              0.6666666666666666,
              "#ed7953"
             ],
             [
              0.7777777777777778,
              "#fb9f3a"
             ],
             [
              0.8888888888888888,
              "#fdca26"
             ],
             [
              1,
              "#f0f921"
             ]
            ],
            "type": "histogram2d"
           }
          ],
          "histogram2dcontour": [
           {
            "colorbar": {
             "outlinewidth": 0,
             "ticks": ""
            },
            "colorscale": [
             [
              0,
              "#0d0887"
             ],
             [
              0.1111111111111111,
              "#46039f"
             ],
             [
              0.2222222222222222,
              "#7201a8"
             ],
             [
              0.3333333333333333,
              "#9c179e"
             ],
             [
              0.4444444444444444,
              "#bd3786"
             ],
             [
              0.5555555555555556,
              "#d8576b"
             ],
             [
              0.6666666666666666,
              "#ed7953"
             ],
             [
              0.7777777777777778,
              "#fb9f3a"
             ],
             [
              0.8888888888888888,
              "#fdca26"
             ],
             [
              1,
              "#f0f921"
             ]
            ],
            "type": "histogram2dcontour"
           }
          ],
          "mesh3d": [
           {
            "colorbar": {
             "outlinewidth": 0,
             "ticks": ""
            },
            "type": "mesh3d"
           }
          ],
          "parcoords": [
           {
            "line": {
             "colorbar": {
              "outlinewidth": 0,
              "ticks": ""
             }
            },
            "type": "parcoords"
           }
          ],
          "pie": [
           {
            "automargin": true,
            "type": "pie"
           }
          ],
          "scatter": [
           {
            "fillpattern": {
             "fillmode": "overlay",
             "size": 10,
             "solidity": 0.2
            },
            "type": "scatter"
           }
          ],
          "scatter3d": [
           {
            "line": {
             "colorbar": {
              "outlinewidth": 0,
              "ticks": ""
             }
            },
            "marker": {
             "colorbar": {
              "outlinewidth": 0,
              "ticks": ""
             }
            },
            "type": "scatter3d"
           }
          ],
          "scattercarpet": [
           {
            "marker": {
             "colorbar": {
              "outlinewidth": 0,
              "ticks": ""
             }
            },
            "type": "scattercarpet"
           }
          ],
          "scattergeo": [
           {
            "marker": {
             "colorbar": {
              "outlinewidth": 0,
              "ticks": ""
             }
            },
            "type": "scattergeo"
           }
          ],
          "scattergl": [
           {
            "marker": {
             "colorbar": {
              "outlinewidth": 0,
              "ticks": ""
             }
            },
            "type": "scattergl"
           }
          ],
          "scattermapbox": [
           {
            "marker": {
             "colorbar": {
              "outlinewidth": 0,
              "ticks": ""
             }
            },
            "type": "scattermapbox"
           }
          ],
          "scatterpolar": [
           {
            "marker": {
             "colorbar": {
              "outlinewidth": 0,
              "ticks": ""
             }
            },
            "type": "scatterpolar"
           }
          ],
          "scatterpolargl": [
           {
            "marker": {
             "colorbar": {
              "outlinewidth": 0,
              "ticks": ""
             }
            },
            "type": "scatterpolargl"
           }
          ],
          "scatterternary": [
           {
            "marker": {
             "colorbar": {
              "outlinewidth": 0,
              "ticks": ""
             }
            },
            "type": "scatterternary"
           }
          ],
          "surface": [
           {
            "colorbar": {
             "outlinewidth": 0,
             "ticks": ""
            },
            "colorscale": [
             [
              0,
              "#0d0887"
             ],
             [
              0.1111111111111111,
              "#46039f"
             ],
             [
              0.2222222222222222,
              "#7201a8"
             ],
             [
              0.3333333333333333,
              "#9c179e"
             ],
             [
              0.4444444444444444,
              "#bd3786"
             ],
             [
              0.5555555555555556,
              "#d8576b"
             ],
             [
              0.6666666666666666,
              "#ed7953"
             ],
             [
              0.7777777777777778,
              "#fb9f3a"
             ],
             [
              0.8888888888888888,
              "#fdca26"
             ],
             [
              1,
              "#f0f921"
             ]
            ],
            "type": "surface"
           }
          ],
          "table": [
           {
            "cells": {
             "fill": {
              "color": "#EBF0F8"
             },
             "line": {
              "color": "white"
             }
            },
            "header": {
             "fill": {
              "color": "#C8D4E3"
             },
             "line": {
              "color": "white"
             }
            },
            "type": "table"
           }
          ]
         },
         "layout": {
          "annotationdefaults": {
           "arrowcolor": "#2a3f5f",
           "arrowhead": 0,
           "arrowwidth": 1
          },
          "autotypenumbers": "strict",
          "coloraxis": {
           "colorbar": {
            "outlinewidth": 0,
            "ticks": ""
           }
          },
          "colorscale": {
           "diverging": [
            [
             0,
             "#8e0152"
            ],
            [
             0.1,
             "#c51b7d"
            ],
            [
             0.2,
             "#de77ae"
            ],
            [
             0.3,
             "#f1b6da"
            ],
            [
             0.4,
             "#fde0ef"
            ],
            [
             0.5,
             "#f7f7f7"
            ],
            [
             0.6,
             "#e6f5d0"
            ],
            [
             0.7,
             "#b8e186"
            ],
            [
             0.8,
             "#7fbc41"
            ],
            [
             0.9,
             "#4d9221"
            ],
            [
             1,
             "#276419"
            ]
           ],
           "sequential": [
            [
             0,
             "#0d0887"
            ],
            [
             0.1111111111111111,
             "#46039f"
            ],
            [
             0.2222222222222222,
             "#7201a8"
            ],
            [
             0.3333333333333333,
             "#9c179e"
            ],
            [
             0.4444444444444444,
             "#bd3786"
            ],
            [
             0.5555555555555556,
             "#d8576b"
            ],
            [
             0.6666666666666666,
             "#ed7953"
            ],
            [
             0.7777777777777778,
             "#fb9f3a"
            ],
            [
             0.8888888888888888,
             "#fdca26"
            ],
            [
             1,
             "#f0f921"
            ]
           ],
           "sequentialminus": [
            [
             0,
             "#0d0887"
            ],
            [
             0.1111111111111111,
             "#46039f"
            ],
            [
             0.2222222222222222,
             "#7201a8"
            ],
            [
             0.3333333333333333,
             "#9c179e"
            ],
            [
             0.4444444444444444,
             "#bd3786"
            ],
            [
             0.5555555555555556,
             "#d8576b"
            ],
            [
             0.6666666666666666,
             "#ed7953"
            ],
            [
             0.7777777777777778,
             "#fb9f3a"
            ],
            [
             0.8888888888888888,
             "#fdca26"
            ],
            [
             1,
             "#f0f921"
            ]
           ]
          },
          "colorway": [
           "#636efa",
           "#EF553B",
           "#00cc96",
           "#ab63fa",
           "#FFA15A",
           "#19d3f3",
           "#FF6692",
           "#B6E880",
           "#FF97FF",
           "#FECB52"
          ],
          "font": {
           "color": "#2a3f5f"
          },
          "geo": {
           "bgcolor": "white",
           "lakecolor": "white",
           "landcolor": "#E5ECF6",
           "showlakes": true,
           "showland": true,
           "subunitcolor": "white"
          },
          "hoverlabel": {
           "align": "left"
          },
          "hovermode": "closest",
          "mapbox": {
           "style": "light"
          },
          "paper_bgcolor": "white",
          "plot_bgcolor": "#E5ECF6",
          "polar": {
           "angularaxis": {
            "gridcolor": "white",
            "linecolor": "white",
            "ticks": ""
           },
           "bgcolor": "#E5ECF6",
           "radialaxis": {
            "gridcolor": "white",
            "linecolor": "white",
            "ticks": ""
           }
          },
          "scene": {
           "xaxis": {
            "backgroundcolor": "#E5ECF6",
            "gridcolor": "white",
            "gridwidth": 2,
            "linecolor": "white",
            "showbackground": true,
            "ticks": "",
            "zerolinecolor": "white"
           },
           "yaxis": {
            "backgroundcolor": "#E5ECF6",
            "gridcolor": "white",
            "gridwidth": 2,
            "linecolor": "white",
            "showbackground": true,
            "ticks": "",
            "zerolinecolor": "white"
           },
           "zaxis": {
            "backgroundcolor": "#E5ECF6",
            "gridcolor": "white",
            "gridwidth": 2,
            "linecolor": "white",
            "showbackground": true,
            "ticks": "",
            "zerolinecolor": "white"
           }
          },
          "shapedefaults": {
           "line": {
            "color": "#2a3f5f"
           }
          },
          "ternary": {
           "aaxis": {
            "gridcolor": "white",
            "linecolor": "white",
            "ticks": ""
           },
           "baxis": {
            "gridcolor": "white",
            "linecolor": "white",
            "ticks": ""
           },
           "bgcolor": "#E5ECF6",
           "caxis": {
            "gridcolor": "white",
            "linecolor": "white",
            "ticks": ""
           }
          },
          "title": {
           "x": 0.05
          },
          "xaxis": {
           "automargin": true,
           "gridcolor": "white",
           "linecolor": "white",
           "ticks": "",
           "title": {
            "standoff": 15
           },
           "zerolinecolor": "white",
           "zerolinewidth": 2
          },
          "yaxis": {
           "automargin": true,
           "gridcolor": "white",
           "linecolor": "white",
           "ticks": "",
           "title": {
            "standoff": 15
           },
           "zerolinecolor": "white",
           "zerolinewidth": 2
          }
         }
        },
        "title": {
         "text": "COVID Cases Comparison: US vs UK"
        },
        "xaxis": {
         "title": {
          "text": "Date"
         }
        },
        "yaxis": {
         "title": {
          "text": "COVID Cases"
         }
        }
       }
      },
      "text/html": [
       "<div>                            <div id=\"721cb8be-8ba5-447b-9104-80ed066ce8f0\" class=\"plotly-graph-div\" style=\"height:525px; width:100%;\"></div>            <script type=\"text/javascript\">                require([\"plotly\"], function(Plotly) {                    window.PLOTLYENV=window.PLOTLYENV || {};                                    if (document.getElementById(\"721cb8be-8ba5-447b-9104-80ed066ce8f0\")) {                    Plotly.newPlot(                        \"721cb8be-8ba5-447b-9104-80ed066ce8f0\",                        [{\"mode\":\"lines\",\"name\":\"US\",\"x\":[0,1,2,3,4,5,6,7,8,9,10,11,12,13,14,15,16,17,18,19,20,21,22,23,24,25,26,27,28,29,30,31,32,33,34,35,36,37,38,39,40,41,42,43,44,45,46,47,48,49,50,51,52,53,54,55,56,57,58,59,60,61,62,63,64,65,66,67,68,69,70,71,72,73,74,75,76,77,78,79,80,81,82,83,84,85,86,87,88,89,90,91,92,93,94,95,96,97,98,99,100,101,102,103,104,105,106,107,108,109,110,111,112,113,114,115,116,117,118,119,120,121,122,123,124,125,126,127,128,129,130,131,132,133,134,135,136,137,138,139,140,141,142,143,144,145,146,147,148,149,150,151,152,153,154,155,156,157,158,159,160,161,162,163,164,165,166,167,168,169,170,171,172,173,174,175,176,177,178,179,180,181,182,183,184,185,186,187,188,189,190,191,192,193,194,195,196,197,198,199,200,201,202,203,204,205,206,207,208,209,210,211,212,213,214,215,216],\"y\":[1825083,1846878,1868250,1890173,1919057,1942844,1961192,1977756,1997208,2019231,2042796,2068797,2095714,2116683,2135801,2163908,2191156,2221307,2255640,2290523,2319028,2346696,2384860,2425731,2469820,2519457,2566991,2608875,2644956,2694312,2748327,2806125,2866754,2918327,2961395,3005789,3063072,3126511,3192412,3262685,3328112,3387712,3442018,3511610,3577705,3650129,3729460,3796034,3856816,3911651,3976266,4042729,4110042,4183500,4247760,4303499,4354188,4414944,4478146,4544039,4610541,4670339,4719867,4760076,4814830,4870082,4924448,4984543,5037296,5082446,5118655,5168334,5219825,5269001,5321261,5369778,5406755,5441156,5482489,5526317,5568617,5614820,5657641,5689908,5723072,5762129,5807342,5851905,5896714,5938481,5972021,6003057,6044910,6084681,6127125,6175066,6216526,6247589,6273262,6297939,6333208,6370043,6414617,6452866,6485334,6518526,6556977,6599417,6643428,6688788,6731215,6763219,6802812,6854475,6894327,6938431,6993575,7037982,7069807,7105453,7144914,7191626,7238678,7286404,7336811,7371498,7408589,7452887,7504648,7561231,7618205,7668387,7712473,7758835,7811303,7869353,7936901,8004288,8061822,8110024,8166698,8226360,8289604,8365540,8445874,8515412,8578637,8650019,8721867,8805390,8894252,8990199,9072426,9214833,9306955,9406618,9518980,9651604,9780880,9893150,10000648,10133707,10280372,10437353,10589003,10766188,10937599,11071050,11224810,11382704,11551643,11748324,11933543,12142459,12280817,12449233,12629420,12815908,12942892,13129356,13301106,13424933,13580887,13787187,14010485,14233644,14468110,14681324,14847602,15027940,15264272,15499789,15728458,15966542,16185597,16363412,16552423,16764684,16998180,17231388,17469570,17685162,17848765,18010051,18204174,18416088,18609135,18704673,18833238,18959735,19201773,19460991,19743342,19980329,20145536,20378433,20605299],\"type\":\"scatter\"},{\"mode\":\"lines\",\"name\":\"UK\",\"x\":[0,1,2,3,4,5,6,7,8,9,10,11,12,13,14,15,16,17,18,19,20,21,22,23,24,25,26,27,28,29,30,31,32,33,34,35,36,37,38,39,40,41,42,43,44,45,46,47,48,49,50,51,52,53,54,55,56,57,58,59,60,61,62,63,64,65,66,67,68,69,70,71,72,73,74,75,76,77,78,79,80,81,82,83,84,85,86,87,88,89,90,91,92,93,94,95,96,97,98,99,100,101,102,103,104,105,106,107,108,109,110,111,112,113,114,115,116,117,118,119,120,121,122,123,124,125,126,127,128,129,130,131,132,133,134,135,136,137,138,139,140,141,142,143,144,145,146,147,148,149,150,151,152,153,154,155,156,157,158,159,160,161,162,163,164,165,166,167,168,169,170,171,172,173,174,175,176,177,178,179,180,181,182,183,184,185,186,187,188,189,190,191,192,193,194,195,196,197,198,199,200,201,202,203,204,205,206,207,208,209,210,211,212,213,214,215,216],\"y\":[254220.0,254220.0,254220.0,254220.0,254220.0,254220.0,263104.0,263104.0,263104.0,263104.0,263104.0,263104.0,263104.0,270156.0,270156.0,270156.0,270156.0,270156.0,270156.0,270156.0,277048.0,277048.0,277048.0,277048.0,277048.0,277048.0,277048.0,282318.0,282318.0,282318.0,282318.0,282318.0,282318.0,282318.0,286593.0,286593.0,286593.0,286593.0,286593.0,286593.0,286593.0,290876.0,290876.0,290876.0,290876.0,290876.0,290876.0,290876.0,295216.0,295216.0,295216.0,295216.0,295216.0,295216.0,295216.0,300185.0,300185.0,300185.0,300185.0,300185.0,300185.0,300185.0,305709.0,305709.0,305709.0,305709.0,305709.0,305709.0,305709.0,312127.0,312127.0,312127.0,312127.0,312127.0,312127.0,312127.0,319924.0,319924.0,319924.0,319924.0,319924.0,319924.0,319924.0,327652.0,327652.0,327652.0,327652.0,327652.0,327652.0,327652.0,336506.0,336506.0,336506.0,336506.0,336506.0,336506.0,336506.0,352029.0,352029.0,352029.0,352029.0,352029.0,352029.0,352029.0,374663.0,374663.0,374663.0,374663.0,374663.0,374663.0,374663.0,400513.0,400513.0,400513.0,400513.0,400513.0,400513.0,400513.0,444906.0,444906.0,444906.0,444906.0,444906.0,444906.0,444906.0,519016.0,519016.0,519016.0,519016.0,519016.0,519016.0,519016.0,629530.0,629530.0,629530.0,629530.0,629530.0,629530.0,629530.0,749608.0,749608.0,749608.0,749608.0,749608.0,749608.0,749608.0,901169.0,901169.0,901169.0,901169.0,901169.0,901169.0,901169.0,1055061.0,1055061.0,1055061.0,1055061.0,1055061.0,1055061.0,1055061.0,1217321.0,1217321.0,1217321.0,1217321.0,1217321.0,1217321.0,1217321.0,1392601.0,1392601.0,1392601.0,1392601.0,1392601.0,1392601.0,1392601.0,1533714.0,1533714.0,1533714.0,1533714.0,1533714.0,1533714.0,1533714.0,1639974.0,1639974.0,1639974.0,1639974.0,1639974.0,1639974.0,1639974.0,1745164.0,1745164.0,1745164.0,1745164.0,1745164.0,1745164.0,1745164.0,1883652.0,1883652.0,1883652.0,1883652.0,1883652.0,1883652.0,1883652.0,2101364.0,2101364.0,2101364.0,2101364.0,2101364.0,2101364.0,2101364.0,2344433.0,2344433.0,2344433.0,2344433.0,2344433.0,2344433.0,2344433.0,2722151.0],\"type\":\"scatter\"}],                        {\"title\":{\"text\":\"COVID Cases Comparison: US vs UK\"},\"xaxis\":{\"title\":{\"text\":\"Date\"}},\"yaxis\":{\"title\":{\"text\":\"COVID Cases\"}},\"template\":{\"data\":{\"histogram2dcontour\":[{\"type\":\"histogram2dcontour\",\"colorbar\":{\"outlinewidth\":0,\"ticks\":\"\"},\"colorscale\":[[0.0,\"#0d0887\"],[0.1111111111111111,\"#46039f\"],[0.2222222222222222,\"#7201a8\"],[0.3333333333333333,\"#9c179e\"],[0.4444444444444444,\"#bd3786\"],[0.5555555555555556,\"#d8576b\"],[0.6666666666666666,\"#ed7953\"],[0.7777777777777778,\"#fb9f3a\"],[0.8888888888888888,\"#fdca26\"],[1.0,\"#f0f921\"]]}],\"choropleth\":[{\"type\":\"choropleth\",\"colorbar\":{\"outlinewidth\":0,\"ticks\":\"\"}}],\"histogram2d\":[{\"type\":\"histogram2d\",\"colorbar\":{\"outlinewidth\":0,\"ticks\":\"\"},\"colorscale\":[[0.0,\"#0d0887\"],[0.1111111111111111,\"#46039f\"],[0.2222222222222222,\"#7201a8\"],[0.3333333333333333,\"#9c179e\"],[0.4444444444444444,\"#bd3786\"],[0.5555555555555556,\"#d8576b\"],[0.6666666666666666,\"#ed7953\"],[0.7777777777777778,\"#fb9f3a\"],[0.8888888888888888,\"#fdca26\"],[1.0,\"#f0f921\"]]}],\"heatmap\":[{\"type\":\"heatmap\",\"colorbar\":{\"outlinewidth\":0,\"ticks\":\"\"},\"colorscale\":[[0.0,\"#0d0887\"],[0.1111111111111111,\"#46039f\"],[0.2222222222222222,\"#7201a8\"],[0.3333333333333333,\"#9c179e\"],[0.4444444444444444,\"#bd3786\"],[0.5555555555555556,\"#d8576b\"],[0.6666666666666666,\"#ed7953\"],[0.7777777777777778,\"#fb9f3a\"],[0.8888888888888888,\"#fdca26\"],[1.0,\"#f0f921\"]]}],\"heatmapgl\":[{\"type\":\"heatmapgl\",\"colorbar\":{\"outlinewidth\":0,\"ticks\":\"\"},\"colorscale\":[[0.0,\"#0d0887\"],[0.1111111111111111,\"#46039f\"],[0.2222222222222222,\"#7201a8\"],[0.3333333333333333,\"#9c179e\"],[0.4444444444444444,\"#bd3786\"],[0.5555555555555556,\"#d8576b\"],[0.6666666666666666,\"#ed7953\"],[0.7777777777777778,\"#fb9f3a\"],[0.8888888888888888,\"#fdca26\"],[1.0,\"#f0f921\"]]}],\"contourcarpet\":[{\"type\":\"contourcarpet\",\"colorbar\":{\"outlinewidth\":0,\"ticks\":\"\"}}],\"contour\":[{\"type\":\"contour\",\"colorbar\":{\"outlinewidth\":0,\"ticks\":\"\"},\"colorscale\":[[0.0,\"#0d0887\"],[0.1111111111111111,\"#46039f\"],[0.2222222222222222,\"#7201a8\"],[0.3333333333333333,\"#9c179e\"],[0.4444444444444444,\"#bd3786\"],[0.5555555555555556,\"#d8576b\"],[0.6666666666666666,\"#ed7953\"],[0.7777777777777778,\"#fb9f3a\"],[0.8888888888888888,\"#fdca26\"],[1.0,\"#f0f921\"]]}],\"surface\":[{\"type\":\"surface\",\"colorbar\":{\"outlinewidth\":0,\"ticks\":\"\"},\"colorscale\":[[0.0,\"#0d0887\"],[0.1111111111111111,\"#46039f\"],[0.2222222222222222,\"#7201a8\"],[0.3333333333333333,\"#9c179e\"],[0.4444444444444444,\"#bd3786\"],[0.5555555555555556,\"#d8576b\"],[0.6666666666666666,\"#ed7953\"],[0.7777777777777778,\"#fb9f3a\"],[0.8888888888888888,\"#fdca26\"],[1.0,\"#f0f921\"]]}],\"mesh3d\":[{\"type\":\"mesh3d\",\"colorbar\":{\"outlinewidth\":0,\"ticks\":\"\"}}],\"scatter\":[{\"fillpattern\":{\"fillmode\":\"overlay\",\"size\":10,\"solidity\":0.2},\"type\":\"scatter\"}],\"parcoords\":[{\"type\":\"parcoords\",\"line\":{\"colorbar\":{\"outlinewidth\":0,\"ticks\":\"\"}}}],\"scatterpolargl\":[{\"type\":\"scatterpolargl\",\"marker\":{\"colorbar\":{\"outlinewidth\":0,\"ticks\":\"\"}}}],\"bar\":[{\"error_x\":{\"color\":\"#2a3f5f\"},\"error_y\":{\"color\":\"#2a3f5f\"},\"marker\":{\"line\":{\"color\":\"#E5ECF6\",\"width\":0.5},\"pattern\":{\"fillmode\":\"overlay\",\"size\":10,\"solidity\":0.2}},\"type\":\"bar\"}],\"scattergeo\":[{\"type\":\"scattergeo\",\"marker\":{\"colorbar\":{\"outlinewidth\":0,\"ticks\":\"\"}}}],\"scatterpolar\":[{\"type\":\"scatterpolar\",\"marker\":{\"colorbar\":{\"outlinewidth\":0,\"ticks\":\"\"}}}],\"histogram\":[{\"marker\":{\"pattern\":{\"fillmode\":\"overlay\",\"size\":10,\"solidity\":0.2}},\"type\":\"histogram\"}],\"scattergl\":[{\"type\":\"scattergl\",\"marker\":{\"colorbar\":{\"outlinewidth\":0,\"ticks\":\"\"}}}],\"scatter3d\":[{\"type\":\"scatter3d\",\"line\":{\"colorbar\":{\"outlinewidth\":0,\"ticks\":\"\"}},\"marker\":{\"colorbar\":{\"outlinewidth\":0,\"ticks\":\"\"}}}],\"scattermapbox\":[{\"type\":\"scattermapbox\",\"marker\":{\"colorbar\":{\"outlinewidth\":0,\"ticks\":\"\"}}}],\"scatterternary\":[{\"type\":\"scatterternary\",\"marker\":{\"colorbar\":{\"outlinewidth\":0,\"ticks\":\"\"}}}],\"scattercarpet\":[{\"type\":\"scattercarpet\",\"marker\":{\"colorbar\":{\"outlinewidth\":0,\"ticks\":\"\"}}}],\"carpet\":[{\"aaxis\":{\"endlinecolor\":\"#2a3f5f\",\"gridcolor\":\"white\",\"linecolor\":\"white\",\"minorgridcolor\":\"white\",\"startlinecolor\":\"#2a3f5f\"},\"baxis\":{\"endlinecolor\":\"#2a3f5f\",\"gridcolor\":\"white\",\"linecolor\":\"white\",\"minorgridcolor\":\"white\",\"startlinecolor\":\"#2a3f5f\"},\"type\":\"carpet\"}],\"table\":[{\"cells\":{\"fill\":{\"color\":\"#EBF0F8\"},\"line\":{\"color\":\"white\"}},\"header\":{\"fill\":{\"color\":\"#C8D4E3\"},\"line\":{\"color\":\"white\"}},\"type\":\"table\"}],\"barpolar\":[{\"marker\":{\"line\":{\"color\":\"#E5ECF6\",\"width\":0.5},\"pattern\":{\"fillmode\":\"overlay\",\"size\":10,\"solidity\":0.2}},\"type\":\"barpolar\"}],\"pie\":[{\"automargin\":true,\"type\":\"pie\"}]},\"layout\":{\"autotypenumbers\":\"strict\",\"colorway\":[\"#636efa\",\"#EF553B\",\"#00cc96\",\"#ab63fa\",\"#FFA15A\",\"#19d3f3\",\"#FF6692\",\"#B6E880\",\"#FF97FF\",\"#FECB52\"],\"font\":{\"color\":\"#2a3f5f\"},\"hovermode\":\"closest\",\"hoverlabel\":{\"align\":\"left\"},\"paper_bgcolor\":\"white\",\"plot_bgcolor\":\"#E5ECF6\",\"polar\":{\"bgcolor\":\"#E5ECF6\",\"angularaxis\":{\"gridcolor\":\"white\",\"linecolor\":\"white\",\"ticks\":\"\"},\"radialaxis\":{\"gridcolor\":\"white\",\"linecolor\":\"white\",\"ticks\":\"\"}},\"ternary\":{\"bgcolor\":\"#E5ECF6\",\"aaxis\":{\"gridcolor\":\"white\",\"linecolor\":\"white\",\"ticks\":\"\"},\"baxis\":{\"gridcolor\":\"white\",\"linecolor\":\"white\",\"ticks\":\"\"},\"caxis\":{\"gridcolor\":\"white\",\"linecolor\":\"white\",\"ticks\":\"\"}},\"coloraxis\":{\"colorbar\":{\"outlinewidth\":0,\"ticks\":\"\"}},\"colorscale\":{\"sequential\":[[0.0,\"#0d0887\"],[0.1111111111111111,\"#46039f\"],[0.2222222222222222,\"#7201a8\"],[0.3333333333333333,\"#9c179e\"],[0.4444444444444444,\"#bd3786\"],[0.5555555555555556,\"#d8576b\"],[0.6666666666666666,\"#ed7953\"],[0.7777777777777778,\"#fb9f3a\"],[0.8888888888888888,\"#fdca26\"],[1.0,\"#f0f921\"]],\"sequentialminus\":[[0.0,\"#0d0887\"],[0.1111111111111111,\"#46039f\"],[0.2222222222222222,\"#7201a8\"],[0.3333333333333333,\"#9c179e\"],[0.4444444444444444,\"#bd3786\"],[0.5555555555555556,\"#d8576b\"],[0.6666666666666666,\"#ed7953\"],[0.7777777777777778,\"#fb9f3a\"],[0.8888888888888888,\"#fdca26\"],[1.0,\"#f0f921\"]],\"diverging\":[[0,\"#8e0152\"],[0.1,\"#c51b7d\"],[0.2,\"#de77ae\"],[0.3,\"#f1b6da\"],[0.4,\"#fde0ef\"],[0.5,\"#f7f7f7\"],[0.6,\"#e6f5d0\"],[0.7,\"#b8e186\"],[0.8,\"#7fbc41\"],[0.9,\"#4d9221\"],[1,\"#276419\"]]},\"xaxis\":{\"gridcolor\":\"white\",\"linecolor\":\"white\",\"ticks\":\"\",\"title\":{\"standoff\":15},\"zerolinecolor\":\"white\",\"automargin\":true,\"zerolinewidth\":2},\"yaxis\":{\"gridcolor\":\"white\",\"linecolor\":\"white\",\"ticks\":\"\",\"title\":{\"standoff\":15},\"zerolinecolor\":\"white\",\"automargin\":true,\"zerolinewidth\":2},\"scene\":{\"xaxis\":{\"backgroundcolor\":\"#E5ECF6\",\"gridcolor\":\"white\",\"linecolor\":\"white\",\"showbackground\":true,\"ticks\":\"\",\"zerolinecolor\":\"white\",\"gridwidth\":2},\"yaxis\":{\"backgroundcolor\":\"#E5ECF6\",\"gridcolor\":\"white\",\"linecolor\":\"white\",\"showbackground\":true,\"ticks\":\"\",\"zerolinecolor\":\"white\",\"gridwidth\":2},\"zaxis\":{\"backgroundcolor\":\"#E5ECF6\",\"gridcolor\":\"white\",\"linecolor\":\"white\",\"showbackground\":true,\"ticks\":\"\",\"zerolinecolor\":\"white\",\"gridwidth\":2}},\"shapedefaults\":{\"line\":{\"color\":\"#2a3f5f\"}},\"annotationdefaults\":{\"arrowcolor\":\"#2a3f5f\",\"arrowhead\":0,\"arrowwidth\":1},\"geo\":{\"bgcolor\":\"white\",\"landcolor\":\"#E5ECF6\",\"subunitcolor\":\"white\",\"showland\":true,\"showlakes\":true,\"lakecolor\":\"white\"},\"title\":{\"x\":0.05},\"mapbox\":{\"style\":\"light\"}}}},                        {\"responsive\": true}                    ).then(function(){\n",
       "                            \n",
       "var gd = document.getElementById('721cb8be-8ba5-447b-9104-80ed066ce8f0');\n",
       "var x = new MutationObserver(function (mutations, observer) {{\n",
       "        var display = window.getComputedStyle(gd).display;\n",
       "        if (!display || display === 'none') {{\n",
       "            console.log([gd, 'removed!']);\n",
       "            Plotly.purge(gd);\n",
       "            observer.disconnect();\n",
       "        }}\n",
       "}});\n",
       "\n",
       "// Listen for the removal of the full notebook cells\n",
       "var notebookContainer = gd.closest('#notebook-container');\n",
       "if (notebookContainer) {{\n",
       "    x.observe(notebookContainer, {childList: true});\n",
       "}}\n",
       "\n",
       "// Listen for the clearing of the current output cell\n",
       "var outputEl = gd.closest('.output');\n",
       "if (outputEl) {{\n",
       "    x.observe(outputEl, {childList: true});\n",
       "}}\n",
       "\n",
       "                        })                };                });            </script>        </div>"
      ]
     },
     "metadata": {},
     "output_type": "display_data"
    }
   ],
   "source": [
    "import plotly.graph_objects as go\n",
    "\n",
    "us_trace = go.Scatter(x=days_since_start, y=cases_data, mode='lines', name='US')\n",
    "uk_trace = go.Scatter(x=days_since_start, y=uk_cases_data, mode='lines', name='UK')\n",
    "\n",
    "# Define layout\n",
    "layout = go.Layout(\n",
    "    title='COVID Cases Comparison: US vs UK',\n",
    "    xaxis=dict(title='Date'),\n",
    "    yaxis=dict(title='COVID Cases')\n",
    ")\n",
    "\n",
    "# Create figure and plot\n",
    "fig = go.Figure(data=[us_trace, uk_trace], layout=layout)\n",
    "fig.show()"
   ]
  },
  {
   "cell_type": "markdown",
   "id": "c292c774",
   "metadata": {},
   "source": [
    "In the above figure, we can see that the US has faced increased COVID cases compared to the UK. Not only have they faced more cases, but the rate at which cases increase in the US is far greater than that of the UK.\n",
    "\n",
    "The data above starts at relatively similar locations, but we can see the US COVID cases skyrocket towards the 150-day mark.\n",
    "\n",
    "By the end of this time period, the UK has 2.7 million COVID cases, while the US has over 20 million cases.\n",
    "\n",
    "From the previous graphs, we can also see that both countries trend upwards in an exponential way for cases and deaths. The US cases count starts linearly and then begins to increase exponentially around the 150-day mark. The UK on the other hand starts very slowly relative to the US and increases quickly at around 125 days."
   ]
  },
  {
   "cell_type": "code",
   "execution_count": null,
   "id": "952eb9a1",
   "metadata": {},
   "outputs": [],
   "source": []
  }
 ],
 "metadata": {
  "kernelspec": {
   "display_name": "Python 3 (ipykernel)",
   "language": "python",
   "name": "python3"
  },
  "language_info": {
   "codemirror_mode": {
    "name": "ipython",
    "version": 3
   },
   "file_extension": ".py",
   "mimetype": "text/x-python",
   "name": "python",
   "nbconvert_exporter": "python",
   "pygments_lexer": "ipython3",
   "version": "3.11.5"
  }
 },
 "nbformat": 4,
 "nbformat_minor": 5
}
