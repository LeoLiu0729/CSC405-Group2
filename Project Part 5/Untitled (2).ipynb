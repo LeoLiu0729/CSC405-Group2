{
 "cells": [
  {
   "cell_type": "code",
   "execution_count": null,
   "id": "03e5eca0",
   "metadata": {},
   "outputs": [],
   "source": [
    "from dash import Dash, dcc, html, Input, Output\n",
    "from jupyter_dash import JupyterDash\n",
    "import pandas as pd\n",
    "import numpy as np\n",
    "import matplotlib.pyplot as plt\n",
    "import plotly.express as px"
   ]
  },
  {
   "cell_type": "code",
   "execution_count": null,
   "id": "eb4c0844",
   "metadata": {},
   "outputs": [],
   "source": [
    "covid_cases_data=pd.read_csv(\"covid_confirmed_usafacts.csv\")\n",
    "covid_cases_df=pd.DataFrame(covid_cases_data)\n",
    "covid_deaths_data=pd.read_csv(\"covid_deaths_usafacts.csv\")\n",
    "covid_deaths_df=pd.DataFrame(covid_deaths_data)"
   ]
  },
  {
   "cell_type": "code",
   "execution_count": null,
   "id": "b0ea1750",
   "metadata": {},
   "outputs": [],
   "source": [
    "covid_cases_df.head()"
   ]
  },
  {
   "cell_type": "code",
   "execution_count": null,
   "id": "9c72bdb0",
   "metadata": {},
   "outputs": [],
   "source": [
    "covid_deaths_df.head()"
   ]
  },
  {
   "cell_type": "code",
   "execution_count": null,
   "id": "b28a0288",
   "metadata": {},
   "outputs": [],
   "source": [
    "# Filter data for the specified date range\n",
    "start_date=\"2020-06-01\"\n",
    "end_date=\"2021-01-03\"\n",
    "date_range=pd.date_range(start_date, end_date).strftime('%Y-%m-%d').tolist()\n",
    "covid_cases_data=covid_cases_data[['countyFIPS', 'County Name', 'State']+date_range]\n",
    "\n",
    "date_range=pd.date_range(start_date, end_date).strftime('%Y-%m-%d').tolist()\n",
    "covid_deaths_data=covid_deaths_data[['countyFIPS', 'County Name', 'State']+date_range]\n",
    "\n",
    "covid_cases_data.head()"
   ]
  },
  {
   "cell_type": "code",
   "execution_count": 11,
   "id": "d37e2ce0",
   "metadata": {},
   "outputs": [
    {
     "data": {
      "text/html": [
       "\n",
       "        <iframe\n",
       "            width=\"100%\"\n",
       "            height=\"650\"\n",
       "            src=\"http://127.0.0.1:8051/\"\n",
       "            frameborder=\"0\"\n",
       "            allowfullscreen\n",
       "            \n",
       "        ></iframe>\n",
       "        "
      ],
      "text/plain": [
       "<IPython.lib.display.IFrame at 0x23380c52590>"
      ]
     },
     "metadata": {},
     "output_type": "display_data"
    }
   ],
   "source": [
    "import pandas as pd\n",
    "import numpy as np\n",
    "from sklearn.linear_model import LinearRegression\n",
    "from sklearn.metrics import mean_squared_error\n",
    "import dash\n",
    "import dash_core_components as dcc\n",
    "import dash_html_components as html\n",
    "from dash.dependencies import Input, Output\n",
    "import plotly.graph_objs as go\n",
    "\n",
    "# Read the COVID-19 cases data\n",
    "covid_cases_data = pd.read_csv(\"covid_confirmed_usafacts.csv\")\n",
    "\n",
    "# Filter data for the specified date range\n",
    "start_date = \"2020-06-01\"\n",
    "end_date = \"2021-01-03\"\n",
    "date_range = pd.date_range(start_date, end_date).strftime('%Y-%m-%d').tolist()\n",
    "covid_cases_data = covid_cases_data[['countyFIPS', 'County Name', 'State'] + date_range]\n",
    "\n",
    "# Prepare data for analysis\n",
    "cases_data = covid_cases_data[date_range].sum(axis=0).values\n",
    "days_since_start = np.arange(len(date_range)).reshape(-1, 1)\n",
    "\n",
    "# Define the app\n",
    "app = dash.Dash(__name__)\n",
    "\n",
    "# App layout\n",
    "app.layout = html.Div([\n",
    "    html.H1(\"COVID-19 Cases and Deaths Prediction\"),\n",
    "    dcc.Graph(id='covid-graph'),\n",
    "    html.Button('Linear Mode', id='linear-button', n_clicks=0),\n",
    "    html.Button('Log Mode', id='log-button', n_clicks=0)\n",
    "])\n",
    "\n",
    "# Callback to update graph\n",
    "@app.callback(\n",
    "    Output('covid-graph', 'figure'),\n",
    "    [Input('linear-button', 'n_clicks'),\n",
    "     Input('log-button', 'n_clicks')]\n",
    ")\n",
    "def update_graph(linear_clicks, log_clicks):\n",
    "    changed_id = [p['prop_id'] for p in dash.callback_context.triggered][0]\n",
    "    mode = None\n",
    "    \n",
    "    if 'linear-button' in changed_id:\n",
    "        mode = \"linear\"\n",
    "    elif 'log-button' in changed_id:\n",
    "        mode = \"log\"\n",
    "\n",
    "    # Apply mode transformation\n",
    "    if mode == \"log\":\n",
    "        cases_data_transformed = np.log(cases_data + 1)  # Adding 1 to avoid log(0)\n",
    "    else:\n",
    "        cases_data_transformed = cases_data\n",
    "\n",
    "    # Fit regression model\n",
    "    reg = LinearRegression().fit(days_since_start, cases_data_transformed)\n",
    "\n",
    "    # Predictions\n",
    "    predictions = reg.predict(days_since_start)\n",
    "    if mode == \"log\":\n",
    "        predictions = np.exp(predictions) - 1  # Transforming back from log space\n",
    "\n",
    "    # Plot data\n",
    "    fig = go.Figure()\n",
    "    fig.add_trace(go.Scatter(x=np.arange(len(date_range)), y=cases_data_transformed, mode='markers', name='Actual Cases'))\n",
    "    fig.add_trace(go.Scatter(x=np.arange(len(date_range)), y=predictions, mode='lines', name='Trend Line'))\n",
    "    fig.update_layout(title=f'COVID-19 Cases Prediction ({mode.capitalize() if mode else \"Linear\"} Mode)',\n",
    "                      xaxis_title='Number of Days',\n",
    "                      yaxis_title='Number of Cases' if mode == \"linear\" else 'Log(Number of Cases)',\n",
    "                      legend=dict(yanchor=\"top\", y=0.99, xanchor=\"left\", x=0.01),\n",
    "                      height=600)\n",
    "    return fig\n",
    "\n",
    "if __name__ == '__main__':\n",
    "    app.run_server(debug=True, port=8051)"
   ]
  },
  {
   "cell_type": "code",
   "execution_count": null,
   "id": "3971ef1e",
   "metadata": {},
   "outputs": [],
   "source": []
  }
 ],
 "metadata": {
  "kernelspec": {
   "display_name": "Python 3 (ipykernel)",
   "language": "python",
   "name": "python3"
  },
  "language_info": {
   "codemirror_mode": {
    "name": "ipython",
    "version": 3
   },
   "file_extension": ".py",
   "mimetype": "text/x-python",
   "name": "python",
   "nbconvert_exporter": "python",
   "pygments_lexer": "ipython3",
   "version": "3.11.5"
  }
 },
 "nbformat": 4,
 "nbformat_minor": 5
}
